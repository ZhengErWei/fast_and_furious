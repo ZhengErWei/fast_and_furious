{
 "cells": [
  {
   "cell_type": "code",
   "execution_count": null,
   "metadata": {},
   "outputs": [],
   "source": [
    "'''\n",
    "trips = df[(df[\"start\"] != 0) & (df[\"end\"] != 0) & (df[\"start\"] != df[\"end\"])]\n",
    "\n",
    "stations = set()\n",
    "\n",
    "for idx, row in trips.iterrows():\n",
    "    origin = clubs[row[\"start\"]]\n",
    "    destination = clubs[row[\"end\"]]\n",
    "    \n",
    "    if (-74.06 <= origin[1] <= -73.77) & \\\n",
    "    (-74.06 <= destination[1] <= -73.77) & \\\n",
    "    (40.61 <= origin[0] <= 40.91) & \\\n",
    "    (40.61 <= destination[0] <= 40.91):\n",
    "        stations.add((origin[1], origin[0]))\n",
    "        stations.add((destination[1], destination[0]))\n",
    "\n",
    "diction = {}\n",
    "c = 0\n",
    "for i in stations:\n",
    "    c += 1\n",
    "    diction[i] = c\n",
    "\n",
    "position = {}\n",
    "c = 0\n",
    "for i in stations:\n",
    "    c += 1\n",
    "    position[c] = i\n",
    "\n",
    "G = nx.DiGraph()\n",
    "\n",
    "for k, v in diction.items():\n",
    "    G.add_node(v, lat=k[1], long=k[0])\n",
    "\n",
    "for idx, row in trips.iterrows():\n",
    "    origin = clubs[row[\"start\"]]\n",
    "    destination = clubs[row[\"end\"]]\n",
    "    \n",
    "    if (-74.06 <= origin[1] <= -73.77) & \\\n",
    "    (-74.06 <= destination[1] <= -73.77) & \\\n",
    "    (40.61 <= origin[0] <= 40.91) & \\\n",
    "    (40.61 <= destination[0] <= 40.91):\n",
    "        G.add_edge(diction[(origin[1], origin[0])], diction[(destination[1], destination[0])])\n",
    "\n",
    "nx.draw_networkx(G, pos=position, node_color=\"green\", edge_color=\"black\", \\\n",
    "                 width=0.1, node_size=10, with_labels=False)\n",
    "'''"
   ]
  },
  {
   "cell_type": "code",
   "execution_count": 1,
   "metadata": {
    "collapsed": true
   },
   "outputs": [],
   "source": [
    "import pandas as pd\n",
    "import networkx as nx\n",
    "import matplotlib.pyplot as plt\n",
    "import datetime as dt"
   ]
  },
  {
   "cell_type": "code",
   "execution_count": 2,
   "metadata": {},
   "outputs": [
    {
     "name": "stderr",
     "output_type": "stream",
     "text": [
      "/anaconda3/lib/python3.6/site-packages/IPython/core/interactiveshell.py:2698: DtypeWarning: Columns (1,12) have mixed types. Specify dtype option on import or set low_memory=False.\n",
      "  interactivity=interactivity, compiler=compiler, result=result)\n"
     ]
    }
   ],
   "source": [
    "df = pd.read_csv(\"rich.csv\")"
   ]
  },
  {
   "cell_type": "code",
   "execution_count": 3,
   "metadata": {},
   "outputs": [],
   "source": [
    "df[\"my_dates\"] = pd.to_datetime(df[\"tpep_pickup_datetime\"])\n",
    "df[\"day_of_week\"] = df[\"my_dates\"].dt.weekday_name\n",
    "df[\"time\"] = df[\"my_dates\"].dt.time"
   ]
  },
  {
   "cell_type": "code",
   "execution_count": 4,
   "metadata": {
    "collapsed": true
   },
   "outputs": [],
   "source": [
    "df[\"start\"] = 0\n",
    "df[\"end\"] = 0"
   ]
  },
  {
   "cell_type": "code",
   "execution_count": 5,
   "metadata": {
    "collapsed": true
   },
   "outputs": [],
   "source": [
    "clubs = [(40.74405065, -74.00631335),\n",
    "         (40.7397342, -74.0070218),\n",
    "         (40.7423311, -74.0034791), \n",
    "         (40.766805, -73.996215),\n",
    "         (40.7640706, -73.9975569), \n",
    "         (40.7409232, -74.008111),\n",
    "         (40.7500697, -74.0027905),\n",
    "         (40.722524, -73.9797307),\n",
    "         (40.7223166, -73.9578179), \n",
    "         (40.7382579, -74.0094507), \n",
    "         (40.7645758, -73.99595)]"
   ]
  },
  {
   "cell_type": "code",
   "execution_count": 6,
   "metadata": {
    "collapsed": true
   },
   "outputs": [],
   "source": [
    "mapping = {\n",
    "    1: \"1 Oak / Avenue\",\n",
    "    2: \"Cielo\",\n",
    "    3: \"Electric Room / PH-D at Dream Downtown\",\n",
    "    4: \"FREQ\",\n",
    "    5: \"Hudson Terrace\",\n",
    "    6: \"Le Bain\",\n",
    "    7: \"Marquee New York\",\n",
    "    8: \"Nublu\",\n",
    "    9: \"Output\",\n",
    "    10: \"The Jane Hotel\",\n",
    "    11: \"The Press Lounge\",\n",
    "}"
   ]
  },
  {
   "cell_type": "code",
   "execution_count": 7,
   "metadata": {
    "collapsed": true
   },
   "outputs": [],
   "source": [
    "def pickup_neighbor(df, coor):\n",
    "    lat, long = coor\n",
    "    return df[(df[\"pickup_latitude\"] > lat - 0.001) & (df[\"pickup_latitude\"] < lat + 0.001) & \\\n",
    "   (df[\"pickup_longitude\"] > long - 0.001) & (df[\"pickup_longitude\"] < long + 0.001)].index"
   ]
  },
  {
   "cell_type": "code",
   "execution_count": 8,
   "metadata": {},
   "outputs": [],
   "source": [
    "def dropoff_neighbor(df, coor):\n",
    "    lat, long = coor\n",
    "    return df[(df[\"dropoff_latitude\"] > lat - 0.001) & (df[\"dropoff_latitude\"] < lat + 0.001) & \\\n",
    "   (df[\"dropoff_longitude\"] > long - 0.001) & (df[\"dropoff_longitude\"] < long + 0.001)].index"
   ]
  },
  {
   "cell_type": "code",
   "execution_count": 9,
   "metadata": {},
   "outputs": [],
   "source": [
    "c = 0\n",
    "for club in clubs:\n",
    "    df.loc[pickup_neighbor(df, club), \"start\"] = c\n",
    "    df.loc[dropoff_neighbor(df, club), \"end\"] = c\n",
    "    c += 1"
   ]
  },
  {
   "cell_type": "code",
   "execution_count": 10,
   "metadata": {
    "collapsed": true
   },
   "outputs": [],
   "source": [
    "nc = df[((df[\"day_of_week\"] == \"Friday\") |\n",
    "        (df[\"day_of_week\"] == \"Saturday\") | (df[\"day_of_week\"] == \"Sunday\")) & \n",
    "        (((df[\"time\"] >= dt.time(0, 0, 0)) & (df[\"time\"] < dt.time(4, 30, 0))))]"
   ]
  },
  {
   "cell_type": "code",
   "execution_count": 11,
   "metadata": {},
   "outputs": [],
   "source": [
    "nc = nc[(nc[\"start\"] != 0)]"
   ]
  },
  {
   "cell_type": "code",
   "execution_count": 12,
   "metadata": {},
   "outputs": [],
   "source": [
    "nc = nc[nc[\"trip_distance\"] > 5]"
   ]
  },
  {
   "cell_type": "code",
   "execution_count": 13,
   "metadata": {
    "collapsed": true
   },
   "outputs": [],
   "source": [
    "nc = nc[nc[\"passenger_count\"] == 1]"
   ]
  },
  {
   "cell_type": "code",
   "execution_count": 14,
   "metadata": {
    "collapsed": true
   },
   "outputs": [],
   "source": [
    "nc = nc[(nc[\"RatecodeID\"] != 2) & (nc[\"RatecodeID\"] != 3)]"
   ]
  },
  {
   "cell_type": "code",
   "execution_count": 15,
   "metadata": {},
   "outputs": [],
   "source": [
    "stations = set()\n",
    "\n",
    "for idx, row in nc.iterrows():\n",
    "    origin = (row[\"pickup_longitude\"], row[\"pickup_latitude\"])\n",
    "    destination = (row[\"dropoff_longitude\"], row[\"dropoff_latitude\"])\n",
    "    \n",
    "    if (row[\"start\"] != 0) & \\\n",
    "    (-74.06 <= origin[0] <= -73.77) & \\\n",
    "    (-74.06 <= destination[0] <= -73.77) & \\\n",
    "    (40.61 <= origin[1] <= 40.91) & \\\n",
    "    (40.61 <= destination[1] <= 40.91):\n",
    "        stations.add(origin)\n",
    "        stations.add(destination)"
   ]
  },
  {
   "cell_type": "code",
   "execution_count": 16,
   "metadata": {},
   "outputs": [],
   "source": [
    "diction = {}\n",
    "c = 0\n",
    "for i in stations:\n",
    "    c += 1\n",
    "    diction[i] = c\n",
    "\n",
    "position = {}\n",
    "c = 0\n",
    "for i in stations:\n",
    "    c += 1\n",
    "    position[c] = i\n",
    "\n",
    "G = nx.Graph()\n",
    "\n",
    "for k, v in diction.items():\n",
    "    G.add_node(v, lat=k[1], long=k[0])"
   ]
  },
  {
   "cell_type": "code",
   "execution_count": 17,
   "metadata": {},
   "outputs": [],
   "source": [
    "for idx, row in nc.iterrows():\n",
    "    origin = (row[\"pickup_longitude\"], row[\"pickup_latitude\"])\n",
    "    destination = (row[\"dropoff_longitude\"], row[\"dropoff_latitude\"])\n",
    "    \n",
    "    if (row[\"start\"] != 0) & \\\n",
    "    (-74.06 <= origin[0] <= -73.77) & \\\n",
    "    (-74.06 <= destination[0] <= -73.77) & \\\n",
    "    (40.61 <= origin[1] <= 40.91) & \\\n",
    "    (40.61 <= destination[1] <= 40.91):\n",
    "        G.add_edge(diction[origin], diction[destination])"
   ]
  },
  {
   "cell_type": "code",
   "execution_count": 18,
   "metadata": {},
   "outputs": [],
   "source": [
    "nx.draw_networkx(G, pos=position, node_color=\"green\", edge_color=\"black\", \\\n",
    "                 width=0.1, node_size=2, with_labels=False)"
   ]
  },
  {
   "cell_type": "code",
   "execution_count": 19,
   "metadata": {},
   "outputs": [],
   "source": [
    "trips2 = df[(df[\"start\"] != 0) & (df[\"end\"] != 0) & (df[\"start\"] != df[\"end\"])]\n",
    "\n",
    "stations2 = set()\n",
    "\n",
    "for idx, row in trips2.iterrows():\n",
    "    origin = clubs[row[\"start\"]]\n",
    "    destination = clubs[row[\"end\"]]\n",
    "    \n",
    "    if (-74.06 <= origin[1] <= -73.77) & \\\n",
    "    (-74.06 <= destination[1] <= -73.77) & \\\n",
    "    (40.61 <= origin[0] <= 40.91) & \\\n",
    "    (40.61 <= destination[0] <= 40.91):\n",
    "        stations2.add((origin[1], origin[0]))\n",
    "        stations2.add((destination[1], destination[0]))\n",
    "\n",
    "diction2 = {}\n",
    "c = 0\n",
    "for i in stations2:\n",
    "    c += 1\n",
    "    diction2[i] = c\n",
    "\n",
    "position2 = {}\n",
    "c = 0\n",
    "for i in stations2:\n",
    "    c += 1\n",
    "    position2[c] = i\n",
    "\n",
    "G2 = nx.Graph()\n",
    "\n",
    "for k, v in diction2.items():\n",
    "    G2.add_node(v, lat=k[1], long=k[0])\n",
    "    G2.add_edge(diction2[(origin[1], origin[0])], diction2[(origin[1], origin[0])])\n",
    "\n",
    "for idx, row in trips2.iterrows():\n",
    "    origin = clubs[row[\"start\"]]\n",
    "    destination = clubs[row[\"end\"]]\n",
    "    \n",
    "    if (-74.06 <= origin[1] <= -73.77) & \\\n",
    "    (-74.06 <= destination[1] <= -73.77) & \\\n",
    "    (40.61 <= origin[0] <= 40.91) & \\\n",
    "    (40.61 <= destination[0] <= 40.91):\n",
    "        G2.add_edge(diction2[(origin[1], origin[0])], diction2[(destination[1], destination[0])])\n",
    "\n",
    "nx.draw_networkx(G2, pos=position2, node_color=\"red\", edge_color=\"black\", \\\n",
    "                 width=0.1, node_size=5, with_labels=False)"
   ]
  },
  {
   "cell_type": "code",
   "execution_count": 20,
   "metadata": {},
   "outputs": [
    {
     "data": {
      "image/png": "[encoded data removed]",
      "text/plain": [
       "<matplotlib.figure.Figure at 0x150b5f4080>"
      ]
     },
     "metadata": {},
     "output_type": "display_data"
    }
   ],
   "source": [
    "plt.show()"
   ]
  },
  {
   "cell_type": "code",
   "execution_count": 21,
   "metadata": {},
   "outputs": [
    {
     "name": "stderr",
     "output_type": "stream",
     "text": [
      "/anaconda3/lib/python3.6/site-packages/IPython/core/interactiveshell.py:2698: DtypeWarning: Columns (1,9,12) have mixed types. Specify dtype option on import or set low_memory=False.\n",
      "  interactivity=interactivity, compiler=compiler, result=result)\n"
     ]
    }
   ],
   "source": [
    "testing = pd.read_csv(\"NYC_nightclubs.csv\")"
   ]
  },
  {
   "cell_type": "code",
   "execution_count": 22,
   "metadata": {
    "collapsed": true
   },
   "outputs": [],
   "source": [
    "testing[\"tip_rate\"] = testing[\"tip_amount\"] / testing[\"fare_amount\"]\n",
    "testing[\"my_dates\"] = pd.to_datetime(testing[\"tpep_pickup_datetime\"])\n",
    "testing[\"day_of_week\"] = testing[\"my_dates\"].dt.weekday_name\n",
    "testing[\"time\"] = testing[\"my_dates\"].dt.time"
   ]
  },
  {
   "cell_type": "code",
   "execution_count": 23,
   "metadata": {
    "collapsed": true
   },
   "outputs": [],
   "source": [
    "def filtering(df, lat, long):\n",
    "    lat = round(lat, 3)\n",
    "    long = round(long, 3)\n",
    "    test = df.round(3)\n",
    "    return test[(test[\"dropoff_latitude\"] == lat) & (test[\"dropoff_longitude\"] == long)]"
   ]
  },
  {
   "cell_type": "code",
   "execution_count": 24,
   "metadata": {},
   "outputs": [
    {
     "data": {
      "text/html": [
       "<div>\n",
       "<style>\n",
       "    .dataframe thead tr:only-child th {\n",
       "        text-align: right;\n",
       "    }\n",
       "\n",
       "    .dataframe thead th {\n",
       "        text-align: left;\n",
       "    }\n",
       "\n",
       "    .dataframe tbody tr th {\n",
       "        vertical-align: top;\n",
       "    }\n",
       "</style>\n",
       "<table border=\"1\" class=\"dataframe\">\n",
       "  <thead>\n",
       "    <tr style=\"text-align: right;\">\n",
       "      <th></th>\n",
       "      <th>Unnamed: 0</th>\n",
       "      <th>VendorID</th>\n",
       "      <th>tpep_pickup_datetime</th>\n",
       "      <th>tpep_dropoff_datetime</th>\n",
       "      <th>passenger_count</th>\n",
       "      <th>trip_distance</th>\n",
       "      <th>pickup_longitude</th>\n",
       "      <th>pickup_latitude</th>\n",
       "      <th>RatecodeID</th>\n",
       "      <th>store_and_fwd_flag</th>\n",
       "      <th>...</th>\n",
       "      <th>extra</th>\n",
       "      <th>mta_tax</th>\n",
       "      <th>tip_amount</th>\n",
       "      <th>tolls_amount</th>\n",
       "      <th>improvement_surcharge</th>\n",
       "      <th>total_amount</th>\n",
       "      <th>tip_rate</th>\n",
       "      <th>my_dates</th>\n",
       "      <th>day_of_week</th>\n",
       "      <th>time</th>\n",
       "    </tr>\n",
       "  </thead>\n",
       "  <tbody>\n",
       "  </tbody>\n",
       "</table>\n",
       "<p>0 rows × 24 columns</p>\n",
       "</div>"
      ],
      "text/plain": [
       "Empty DataFrame\n",
       "Columns: [Unnamed: 0, VendorID, tpep_pickup_datetime, tpep_dropoff_datetime, passenger_count, trip_distance, pickup_longitude, pickup_latitude, RatecodeID, store_and_fwd_flag, dropoff_longitude, dropoff_latitude, payment_type, fare_amount, extra, mta_tax, tip_amount, tolls_amount, improvement_surcharge, total_amount, tip_rate, my_dates, day_of_week, time]\n",
       "Index: []\n",
       "\n",
       "[0 rows x 24 columns]"
      ]
     },
     "execution_count": 24,
     "metadata": {},
     "output_type": "execute_result"
    }
   ],
   "source": [
    "filtering(testing, 40.735, -74.025)"
   ]
  }
 ],
 "metadata": {
  "kernelspec": {
   "display_name": "Python 3",
   "language": "python",
   "name": "python3"
  },
  "language_info": {
   "codemirror_mode": {
    "name": "ipython",
    "version": 3
   },
   "file_extension": ".py",
   "mimetype": "text/x-python",
   "name": "python",
   "nbconvert_exporter": "python",
   "pygments_lexer": "ipython3",
   "version": "3.6.3"
  }
 },
 "nbformat": 4,
 "nbformat_minor": 2
}
